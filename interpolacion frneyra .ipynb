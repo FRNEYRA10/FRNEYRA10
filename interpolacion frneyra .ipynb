{
 "cells": [
  {
   "cell_type": "code",
   "execution_count": 1,
   "id": "d465376a",
   "metadata": {},
   "outputs": [
    {
     "name": "stdout",
     "output_type": "stream",
     "text": [
      "Matriz Vandermonde: \n",
      "[[0.    0.    0.    1.   ]\n",
      " [0.008 0.04  0.2   1.   ]\n",
      " [0.027 0.09  0.3   1.   ]\n",
      " [0.064 0.16  0.4   1.   ]]\n",
      "los coeficientes del polinomio: \n",
      "[ 41.66666667 -27.5          6.83333333   1.        ]\n",
      "Polinomio de interpolación: \n",
      "41.6666666666667*x**3 - 27.5*x**2 + 6.83333333333333*x + 1.0\n",
      "\n",
      " formato pprint\n",
      "                  3         2                           \n",
      "41.6666666666667⋅x  - 27.5⋅x  + 6.83333333333333⋅x + 1.0\n"
     ]
    },
    {
     "data": {
      "image/png": "[encoded data removed]",
      "text/plain": [
       "<Figure size 432x288 with 1 Axes>"
      ]
     },
     "metadata": {
      "needs_background": "light"
     },
     "output_type": "display_data"
    }
   ],
   "source": [
    "# El polinomio de interpolación\n",
    "import numpy as np\n",
    "import sympy as sym\n",
    "import matplotlib.pyplot as plt\n",
    "\n",
    "# INGRESO\n",
    "xi = [0,0.2,0.3,0.4]\n",
    "fi = [1,1.6,1.7,2.0]\n",
    "# muestras = tramos+1\n",
    "muestras = 101\n",
    "\n",
    "# PROCEDIMIENTO\n",
    "# Convierte a arreglos numpy \n",
    "xi = np.array(xi)\n",
    "B = np.array(fi)\n",
    "n = len(xi)\n",
    "\n",
    "# Matriz Vandermonde D\n",
    "D = np.zeros(shape=(n,n),dtype =float)\n",
    "for i in range(0,n,1):\n",
    "    for j in range(0,n,1):\n",
    "        potencia = (n-1)-j # Derecha a izquierda\n",
    "        D[i,j] = xi[i]**potencia\n",
    "\n",
    "# Aplicar métodos Unidad03. Tarea\n",
    "# Resuelve sistema de ecuaciones A.X=B\n",
    "coeficiente = np.linalg.solve(D,B)\n",
    "\n",
    "# Polinomio en forma simbólica\n",
    "x = sym.Symbol('x')\n",
    "polinomio = 0\n",
    "for i in range(0,n,1):\n",
    "    potencia = (n-1)-i   # Derecha a izquierda\n",
    "    termino = coeficiente[i]*(x**potencia)\n",
    "    polinomio = polinomio + termino\n",
    "\n",
    "# Polinomio a forma Lambda\n",
    "# para evaluación con vectores de datos xin\n",
    "px = sym.lambdify(x,polinomio)\n",
    "\n",
    "# Para graficar el polinomio en [a,b]\n",
    "a = np.min(xi)\n",
    "b = np.max(xi)\n",
    "xin = np.linspace(a,b,muestras)\n",
    "yin = px(xin)\n",
    "\n",
    "# Usando evaluación simbólica\n",
    "##yin = np.zeros(muestras,dtype=float)\n",
    "##for j in range(0,muestras,1):\n",
    "##    yin[j] = polinomio.subs(x,xin[j])\n",
    "    \n",
    "# SALIDA\n",
    "print('Matriz Vandermonde: ')\n",
    "print(D)\n",
    "print('los coeficientes del polinomio: ')\n",
    "print(coeficiente)\n",
    "print('Polinomio de interpolación: ')\n",
    "print(polinomio)\n",
    "print('\\n formato pprint')\n",
    "sym.pprint(polinomio)\n",
    "\n",
    "# Grafica\n",
    "plt.plot(xi,fi,'o', label='[xi,fi]')\n",
    "plt.plot(xin,yin, label='p(x)')\n",
    "plt.xlabel('xi')\n",
    "plt.ylabel('fi')\n",
    "plt.legend()\n",
    "plt.title(polinomio)\n",
    "plt.show()"
   ]
  },
  {
   "cell_type": "code",
   "execution_count": null,
   "id": "d73085fa",
   "metadata": {},
   "outputs": [],
   "source": []
  }
 ],
 "metadata": {
  "kernelspec": {
   "display_name": "Python 3",
   "language": "python",
   "name": "python3"
  },
  "language_info": {
   "codemirror_mode": {
    "name": "ipython",
    "version": 3
   },
   "file_extension": ".py",
   "mimetype": "text/x-python",
   "name": "python",
   "nbconvert_exporter": "python",
   "pygments_lexer": "ipython3",
   "version": "3.8.8"
  }
 },
 "nbformat": 4,
 "nbformat_minor": 5
}
