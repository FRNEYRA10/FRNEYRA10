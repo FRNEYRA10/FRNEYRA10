{
  "nbformat": 4,
  "nbformat_minor": 0,
  "metadata": {
    "colab": {
      "provenance": [],
      "authorship_tag": "ABX9TyMIxIZrJKOpL1o4I7FMUGvN",
      "include_colab_link": true
    },
    "kernelspec": {
      "name": "python3",
      "display_name": "Python 3"
    },
    "language_info": {
      "name": "python"
    }
  },
  "cells": [
    {
      "cell_type": "markdown",
      "metadata": {
        "id": "view-in-github",
        "colab_type": "text"
      },
      "source": [
        "<a href=\"https://colab.research.google.com/github/FRNEYRA10/FRNEYRA10/blob/main/M%C3%A9todo_de_jacobi_ecu_de_Laplace.ipynb\" target=\"_parent\"><img src=\"https://colab.research.google.com/assets/colab-badge.svg\" alt=\"Open In Colab\"/></a>"
      ]
    },
    {
      "cell_type": "code",
      "source": [
        "import numpy as np\n",
        "\n",
        "# Parametros\n",
        "L = 2\n",
        "h = 2/3\n",
        "N = int(round(L/h))   # N = 3 subintervalos\n",
        "nx = ny = N + 1       # 4 nodos por direccion: 0, 2/3, 4/3, 2\n",
        "x = np.linspace(0, L, nx)\n",
        "y = np.linspace(0, L, ny)\n",
        "\n",
        "# Inicializar malla\n",
        "u = np.zeros((nx, ny), dtype=float)\n",
        "\n",
        "# Condiciones de frontera\n",
        "# x=0 (izquierda)\n",
        "u[0, :] = 0.0\n",
        "\n",
        "# x=2 (derecha): u(2,y) = y(2-y)\n",
        "for j, yj in enumerate(y):\n",
        "    u[-1, j] = yj * (2.0 - yj)\n",
        "\n",
        "# y=0 (abajo)\n",
        "u[:, 0] = 0.0\n",
        "\n",
        "# y=2 (arriba)\n",
        "for i, xi in enumerate(x):\n",
        "    if 0 < xi < 1:\n",
        "        u[i, -1] = xi\n",
        "    elif 1 <= xi < 2:\n",
        "        u[i, -1] = 2.0 - xi\n",
        "    else:\n",
        "        u[i, -1] = 0.0\n",
        "\n",
        "u_boundary = u.copy()  # guardamos las fronteras\n",
        "\n",
        "# Metodo de Jacobi\n",
        "tol = 1e-10\n",
        "max_iter = 20000\n",
        "u_old = u.copy()\n",
        "\n",
        "for k in range(max_iter):\n",
        "    u_new = u_old.copy()\n",
        "    # actualizar  los puntos interiores\n",
        "    for i in range(1, nx-1):\n",
        "        for j in range(1, ny-1):\n",
        "            u_new[i, j] = 0.25 * (u_old[i+1, j] + u_old[i-1, j] + u_old[i, j+1] + u_old[i, j-1])\n",
        "\n",
        "    diff = np.max(np.abs(u_new - u_old))\n",
        "    u_old = u_new\n",
        "    if diff < tol:\n",
        "        break\n",
        "\n",
        "u_jacobi = u_new.copy()\n",
        "iterations = k + 1\n",
        "\n",
        "# Solucion directa del sistema discreto (4x4)\n",
        "A = np.array([[4, -1, -1, 0],\n",
        "              [-1, 4, 0, -1],\n",
        "              [-1, 0, 4, -1],\n",
        "              [0, -1, -1, 4]], dtype=float)\n",
        "b = np.array([0.0, 8.0/9.0, 2.0/3.0, 14.0/9.0], dtype=float)\n",
        "sol = np.linalg.solve(A, b)\n",
        "\n",
        "u_direct = u_boundary.copy()\n",
        "u_direct[1,1] = sol[0]\n",
        "u_direct[2,1] = sol[1]\n",
        "u_direct[1,2] = sol[2]\n",
        "u_direct[2,2] = sol[3]\n",
        "\n",
        "# Mostrar resultados\n",
        "np.set_printoptions(precision=10, suppress=True)\n",
        "print(\"Nodos x:\", x)\n",
        "print(\"Nodos y:\", y)\n",
        "print(\"\\nValores de frontera:\\n\", u_boundary)\n",
        "print(\"\\nResultado del metodo de Jacobi:\")\n",
        "print(f\"Iteraciones: {iterations}, cambio maximo final: {diff:.3e}\\n\")\n",
        "print(u_jacobi)\n",
        "print(\"\\nResultado por solucion directa del sistema discreto (4x4):\\n\")\n",
        "print(u_direct)\n",
        "\n",
        "interior_jacobi = np.array([u_jacobi[1,1], u_jacobi[2,1], u_jacobi[1,2], u_jacobi[2,2]])\n",
        "print(\"\\nValores interiores (orden: u11, u21, u12, u22):\")\n",
        "print(\"Jacobi:\", interior_jacobi.tolist())\n",
        "print(\"Directa:\", sol.tolist())\n",
        "print(\"Diferencia maxima |Jacobi - Directa| =\", np.max(np.abs(interior_jacobi - sol)))"
      ],
      "metadata": {
        "colab": {
          "base_uri": "https://localhost:8080/"
        },
        "id": "LETDsEi14uyf",
        "outputId": "02bc7f46-f03f-4e12-dbfa-6c19bf1b36a4"
      },
      "execution_count": 6,
      "outputs": [
        {
          "output_type": "stream",
          "name": "stdout",
          "text": [
            "Nodos x: [0.           0.6666666667 1.3333333333 2.          ]\n",
            "Nodos y: [0.           0.6666666667 1.3333333333 2.          ]\n",
            "\n",
            "Valores de frontera:\n",
            " [[0.           0.           0.           0.          ]\n",
            " [0.           0.           0.           0.6666666667]\n",
            " [0.           0.           0.           0.6666666667]\n",
            " [0.           0.8888888889 0.8888888889 0.          ]]\n",
            "\n",
            "Resultado del metodo de Jacobi:\n",
            "Iteraciones: 32, cambio maximo final: 9.055e-11\n",
            "\n",
            "[[0.           0.           0.           0.          ]\n",
            " [0.           0.1944444444 0.361111111  0.6666666667]\n",
            " [0.           0.4166666666 0.5833333332 0.6666666667]\n",
            " [0.           0.8888888889 0.8888888889 0.          ]]\n",
            "\n",
            "Resultado por solucion directa del sistema discreto (4x4):\n",
            "\n",
            "[[0.           0.           0.           0.          ]\n",
            " [0.           0.1944444444 0.3611111111 0.6666666667]\n",
            " [0.           0.4166666667 0.5833333333 0.6666666667]\n",
            " [0.           0.8888888889 0.8888888889 0.          ]]\n",
            "\n",
            "Valores interiores (orden: u11, u21, u12, u22):\n",
            "Jacobi: [0.19444444435389924, 0.4166666665761214, 0.36111111102056587, 0.5833333332427881]\n",
            "Directa: [0.19444444444444442, 0.41666666666666663, 0.3611111111111111, 0.5833333333333333]\n",
            "Diferencia maxima |Jacobi - Directa| = 9.05452379740268e-11\n"
          ]
        }
      ]
    }
  ]
}