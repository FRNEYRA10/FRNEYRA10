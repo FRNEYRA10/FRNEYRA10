{
 "cells": [
  {
   "cell_type": "code",
   "execution_count": 1,
   "id": "caafb71f",
   "metadata": {},
   "outputs": [],
   "source": [
    "import math\n",
    "import numpy as np\n",
    "import matplotlib.pyplot as plt\n",
    "from scipy import integrate\n",
    "from traitlets.traitlets import Long"
   ]
  },
  {
   "cell_type": "code",
   "execution_count": 13,
   "id": "d76b2982",
   "metadata": {},
   "outputs": [],
   "source": [
    "#asignando valores \n",
    "\n",
    "x = 35\n",
    "a = 21\n",
    "x0 = 30\n",
    "x1 = 35\n"
   ]
  },
  {
   "cell_type": "code",
   "execution_count": 14,
   "id": "01295d2e",
   "metadata": {},
   "outputs": [],
   "source": [
    "#tomando en cuenta que el valor de t= 1hr\n",
    "\n",
    "k = math.log = ((x-a) / (x0-a)) \n",
    "\n",
    "#la ecuacion pero sin tomar la hr que se nos da en el ejercicio  #\n",
    "\n",
    "t = math.log = (1/(x1-a)) * (1/k)"
   ]
  },
  {
   "cell_type": "code",
   "execution_count": 15,
   "id": "f8498177",
   "metadata": {},
   "outputs": [
    {
     "name": "stdout",
     "output_type": "stream",
     "text": [
      "Valor de K=  1.5556\n",
      "Momento del disparo=  0.04591836734693877 hrs\n"
     ]
    }
   ],
   "source": [
    "print(\"Valor de K= \",(round(k,4)))\n",
    "print(\"Momento del disparo= \",t, \"hrs\")"
   ]
  }
 ],
 "metadata": {
  "kernelspec": {
   "display_name": "Python 3",
   "language": "python",
   "name": "python3"
  },
  "language_info": {
   "codemirror_mode": {
    "name": "ipython",
    "version": 3
   },
   "file_extension": ".py",
   "mimetype": "text/x-python",
   "name": "python",
   "nbconvert_exporter": "python",
   "pygments_lexer": "ipython3",
   "version": "3.8.8"
  }
 },
 "nbformat": 4,
 "nbformat_minor": 5
}
