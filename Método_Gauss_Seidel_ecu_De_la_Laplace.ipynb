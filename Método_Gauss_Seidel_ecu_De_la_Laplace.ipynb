{
  "nbformat": 4,
  "nbformat_minor": 0,
  "metadata": {
    "colab": {
      "provenance": [],
      "authorship_tag": "ABX9TyMAPY1axgTY18nXmGhD08+a",
      "include_colab_link": true
    },
    "kernelspec": {
      "name": "python3",
      "display_name": "Python 3"
    },
    "language_info": {
      "name": "python"
    }
  },
  "cells": [
    {
      "cell_type": "markdown",
      "metadata": {
        "id": "view-in-github",
        "colab_type": "text"
      },
      "source": [
        "<a href=\"https://colab.research.google.com/github/FRNEYRA10/FRNEYRA10/blob/main/M%C3%A9todo_Gauss_Seidel_ecu_De_la_Laplace.ipynb\" target=\"_parent\"><img src=\"https://colab.research.google.com/assets/colab-badge.svg\" alt=\"Open In Colab\"/></a>"
      ]
    },
    {
      "cell_type": "code",
      "execution_count": 3,
      "metadata": {
        "colab": {
          "base_uri": "https://localhost:8080/"
        },
        "id": "ldTXRRKR6NYe",
        "outputId": "9437b953-61da-47b2-d8f7-2f2ede822c3b"
      },
      "outputs": [
        {
          "output_type": "stream",
          "name": "stdout",
          "text": [
            "Convergencia alcanzada en 20 iteraciones con error 9.24e-07\n",
            "Matriz de solución aproximada:\n",
            "[[0.       0.       0.       0.       0.      ]\n",
            " [0.       0.109374 0.227678 0.395089 0.75    ]\n",
            " [0.       0.209821 0.406249 0.602678 1.      ]\n",
            " [0.       0.32366  0.584821 0.609375 0.75    ]\n",
            " [0.       0.5      1.       0.5      0.      ]]\n"
          ]
        }
      ],
      "source": [
        "import numpy as np\n",
        "\n",
        "# Parámetros\n",
        "Lx, Ly = 2.0, 2.0\n",
        "h = 0.5\n",
        "nx, ny = int(Lx/h) + 1, int(Ly/h) + 1\n",
        "\n",
        "# Malla\n",
        "x = np.linspace(0, Lx, nx)\n",
        "y = np.linspace(0, Ly, ny)\n",
        "\n",
        "# Inicialización\n",
        "u = np.zeros((ny, nx))\n",
        "\n",
        "# Condiciones de frontera\n",
        "# u(0,y) = 0\n",
        "u[:, 0] = 0\n",
        "\n",
        "# u(2,y) = y*(2-y)\n",
        "u[:, -1] = y * (2 - y)\n",
        "\n",
        "# u(x,0) = 0\n",
        "u[0, :] = 0\n",
        "\n",
        "# u(x,2)\n",
        "for i in range(nx):\n",
        "    if x[i] < 1:\n",
        "        u[-1, i] = x[i]\n",
        "    else:\n",
        "        u[-1, i] = 2 - x[i]\n",
        "\n",
        "# Método de Gauss-Seidel\n",
        "tol = 1e-6\n",
        "max_iter = 10000\n",
        "\n",
        "for k in range(max_iter):\n",
        "    error = 0.0\n",
        "    for j in range(1, ny-1):\n",
        "        for i in range(1, nx-1):\n",
        "            u_old = u[j, i]\n",
        "            u[j, i] = 0.25 * (u[j, i+1] + u[j, i-1] + u[j+1, i] + u[j-1, i])\n",
        "            error = max(error, abs(u[j, i] - u_old))\n",
        "    if error < tol:\n",
        "        print(f\"Convergencia alcanzada en {k+1} iteraciones con error {error:.2e}\")\n",
        "        break\n",
        "\n",
        "# Resultados\n",
        "print(\"Matriz de solución aproximada:\")\n",
        "print(np.round(u, 6))"
      ]
    }
  ]
}