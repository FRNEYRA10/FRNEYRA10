{
 "cells": [
  {
   "cell_type": "code",
   "execution_count": 39,
   "id": "bee963e5",
   "metadata": {},
   "outputs": [],
   "source": [
    "import numpy as np\n",
    "import sympy as sym\n",
    "import matplotlib.pyplot as plt"
   ]
  },
  {
   "cell_type": "code",
   "execution_count": 40,
   "id": "888a80d8",
   "metadata": {},
   "outputs": [
    {
     "ename": "NameError",
     "evalue": "name 'yi' is not defined",
     "output_type": "error",
     "traceback": [
      "\u001b[1;31m---------------------------------------------------------------------------\u001b[0m",
      "\u001b[1;31mNameError\u001b[0m                                 Traceback (most recent call last)",
      "\u001b[1;32m<ipython-input-40-dcd809f21a8f>\u001b[0m in \u001b[0;36m<module>\u001b[1;34m\u001b[0m\n\u001b[0;32m     15\u001b[0m \u001b[0mA\u001b[0m\u001b[1;33m[\u001b[0m\u001b[1;36m0\u001b[0m\u001b[1;33m,\u001b[0m\u001b[1;36m0\u001b[0m\u001b[1;33m]\u001b[0m \u001b[1;33m=\u001b[0m \u001b[1;36m2\u001b[0m\u001b[1;33m*\u001b[0m\u001b[1;33m(\u001b[0m\u001b[0mh\u001b[0m\u001b[1;33m[\u001b[0m\u001b[1;36m0\u001b[0m\u001b[1;33m]\u001b[0m\u001b[1;33m+\u001b[0m\u001b[0mh\u001b[0m\u001b[1;33m[\u001b[0m\u001b[1;36m1\u001b[0m\u001b[1;33m]\u001b[0m\u001b[1;33m)\u001b[0m\u001b[1;33m\u001b[0m\u001b[1;33m\u001b[0m\u001b[0m\n\u001b[0;32m     16\u001b[0m \u001b[0mA\u001b[0m\u001b[1;33m[\u001b[0m\u001b[1;36m0\u001b[0m\u001b[1;33m,\u001b[0m\u001b[1;36m1\u001b[0m\u001b[1;33m]\u001b[0m \u001b[1;33m=\u001b[0m \u001b[0mh\u001b[0m\u001b[1;33m[\u001b[0m\u001b[1;36m1\u001b[0m\u001b[1;33m]\u001b[0m\u001b[1;33m\u001b[0m\u001b[1;33m\u001b[0m\u001b[0m\n\u001b[1;32m---> 17\u001b[1;33m \u001b[0mB\u001b[0m\u001b[1;33m[\u001b[0m\u001b[1;36m0\u001b[0m\u001b[1;33m]\u001b[0m \u001b[1;33m=\u001b[0m \u001b[1;36m6\u001b[0m\u001b[1;33m*\u001b[0m\u001b[1;33m(\u001b[0m\u001b[1;33m(\u001b[0m \u001b[0myi\u001b[0m\u001b[1;33m[\u001b[0m\u001b[1;36m2\u001b[0m\u001b[1;33m]\u001b[0m\u001b[1;33m-\u001b[0m \u001b[0myi\u001b[0m\u001b[1;33m[\u001b[0m\u001b[1;36m1\u001b[0m\u001b[1;33m]\u001b[0m\u001b[1;33m)\u001b[0m\u001b[1;33m/\u001b[0m\u001b[0mh\u001b[0m\u001b[1;33m[\u001b[0m\u001b[1;36m1\u001b[0m\u001b[1;33m]\u001b[0m \u001b[1;33m-\u001b[0m \u001b[1;33m(\u001b[0m \u001b[0myi\u001b[0m\u001b[1;33m[\u001b[0m\u001b[1;36m1\u001b[0m\u001b[1;33m]\u001b[0m\u001b[1;33m-\u001b[0m\u001b[0myi\u001b[0m\u001b[1;33m[\u001b[0m\u001b[1;36m0\u001b[0m\u001b[1;33m]\u001b[0m\u001b[1;33m)\u001b[0m\u001b[1;33m/\u001b[0m\u001b[0mh\u001b[0m\u001b[1;33m[\u001b[0m\u001b[1;36m0\u001b[0m\u001b[1;33m]\u001b[0m\u001b[1;33m)\u001b[0m\u001b[1;33m\u001b[0m\u001b[1;33m\u001b[0m\u001b[0m\n\u001b[0m\u001b[0;32m     18\u001b[0m \u001b[1;33m\u001b[0m\u001b[0m\n\u001b[0;32m     19\u001b[0m \u001b[1;32mfor\u001b[0m \u001b[0mi\u001b[0m \u001b[1;32min\u001b[0m \u001b[0mrange\u001b[0m\u001b[1;33m(\u001b[0m\u001b[1;36m1\u001b[0m\u001b[1;33m,\u001b[0m\u001b[0mn\u001b[0m\u001b[1;33m-\u001b[0m\u001b[1;36m3\u001b[0m\u001b[1;33m,\u001b[0m\u001b[1;36m1\u001b[0m\u001b[1;33m)\u001b[0m\u001b[1;33m:\u001b[0m\u001b[1;33m\u001b[0m\u001b[1;33m\u001b[0m\u001b[0m\n",
      "\u001b[1;31mNameError\u001b[0m: name 'yi' is not defined"
     ]
    }
   ],
   "source": [
    "def traza3natural(xi, yi):\n",
    "    n = len(xi)\n",
    "\n",
    "                #H\n",
    "h = np.zeros (n-1, dtype = float)\n",
    "for j in range(0,n-1,1):\n",
    "    h[j] = xi[j+1] - xi[j]\n",
    "\n",
    "#Ecuaciones\n",
    "   \n",
    "A = np.zeros(shape=(n-2,n-2), dtype = float)\n",
    "B = np.zeros(n-2, dtype = float)\n",
    "S = np.zeros(n, dtype = float)\n",
    "\n",
    "A[0,0] = 2*(h[0]+h[1])\n",
    "A[0,1] = h[1]\n",
    "B[0] = 6*((yi[2]- yi[1])/h[1] - ( yi[1]-yi[0])/h[0])\n",
    "\n",
    "for i in range(1,n-3,1):\n",
    "        \n",
    "        A[i,i-1] = h[i]\n",
    "        A[i,i] = 2*(h[i]+h[i+1])\n",
    "        A[i,i+1] = h[i+1]\n",
    "        factor21 = (yi[i+2]-yi[i+1])/h[i+1]\n",
    "        factor10 = (yi[i+1]-yi[i])/h[i]\n",
    "        B[i] = 6*(factor21 - factor10)\n",
    "\n",
    "A[n-3,n-4] = h[n-3]\n",
    "A[n-3,n-3] = 2*(h[n-3]+h[n-2])\n",
    "factor12 = (yi[n-1]-yi[n-2])/h[n-2]\n",
    "factor23 = (yi[n-2]-yi[n-3])/h[n-3]\n",
    "B[n-3] = 6*(factor12 - factor23)\n",
    "\n",
    "                    # simplificacion de ecu\n",
    "r = np.linalg.solve(A,B)\n",
    "for j in range(1,n-1,1):\n",
    "    S[j] = r[j-1]\n",
    "S[0] = 0\n",
    "S[n-1] = 0\n",
    "\n",
    "                         # coeficientes\n",
    "    \n",
    "a = np.zeros(n-1, dtype = float)\n",
    "b = np.zeros(n-1, dtype = float)\n",
    "c = np.zeros(n-1, dtype = float)\n",
    "d = np.zeros(n-1, dtype = float)\n",
    "    \n",
    "for j in range(0,n-1,1):\n",
    "        a[j] = (S[j+1]-S[j])/(6*h[j])\n",
    "        b[j] = S[j]/2\n",
    "        factor10 = (yi[j+1]-yi[j])/h[j]\n",
    "        c[j] = factor10 - (2*h[j]*S[j]+h[j]*S[j+1])/6\n",
    "        d[j] = yi[j]\n",
    "\n",
    "\n",
    "x = sym.Symbol('x')\n",
    "px_tabla = []\n",
    "for j in range(0,n-1,1):\n",
    "\n",
    "        pxtramo = a[j]*(x-xi[j])**3 + b[j]*(x-xi[j])**2\n",
    "        pxtramo = pxtramo + c[j]*(x-xi[j])+ d[j]\n",
    "\n",
    "        pxtramo = pxtramo.expand()\n",
    "        px_tabla.append(pxtramo)\n",
    "\n",
    "return(px_tabla)\n",
    "\n",
    "\n",
    "            # datos\n",
    "xi = (0,1,2,3,4,5,6,7,8,9,10,11,12,13,14)\n",
    "fi = (1,3,6,25,73,222,294,258,237,191,125,69,27,11,4)\n",
    "muestras = 10\n",
    "\n",
    "\n",
    "n = len(xi)\n",
    "px_tabla = traza3natural (xi,fi)\n",
    "\n",
    "            # resultado\n",
    "print('Polinomios por tramos: ')\n",
    "for tramo in range(1,n,1):\n",
    "    print(' x = ['+str(xi[tramo-1])\n",
    "          +','+str(xi[tramo])+']')\n",
    "    print(str(px_tabla[tramo-1]))\n",
    "\n",
    "            #imagen\n",
    "xtraza = np.array([])\n",
    "ytraza = np.array([])\n",
    "tramo = 1\n",
    "while not(tramo>=n):\n",
    "    a = xi[tramo-1]\n",
    "    b = xi[tramo]\n",
    "    xtramo = np.linspace(a,b,muestras)\n",
    "\n",
    "\n",
    "    pxtramo = px_tabla[tramo-1]\n",
    "    pxt = sym.lambdify('x',pxtramo)\n",
    "    ytramo = pxt(xtramo)\n",
    "\n",
    "    # vectores de trazador en x,y\n",
    "    xtraza = np.concatenate((xtraza,xtramo))\n",
    "    ytraza = np.concatenate((ytraza,ytramo))\n",
    "    tramo = tramo + 1\n",
    "\n",
    "\n",
    "\n",
    "        "
   ]
  },
  {
   "cell_type": "code",
   "execution_count": 43,
   "id": "01ad1e3f",
   "metadata": {},
   "outputs": [
    {
     "ename": "NameError",
     "evalue": "name 'xtraza' is not defined",
     "output_type": "error",
     "traceback": [
      "\u001b[1;31m---------------------------------------------------------------------------\u001b[0m",
      "\u001b[1;31mNameError\u001b[0m                                 Traceback (most recent call last)",
      "\u001b[1;32m<ipython-input-43-1288ca796d6f>\u001b[0m in \u001b[0;36m<module>\u001b[1;34m\u001b[0m\n\u001b[0;32m      1\u001b[0m \u001b[1;31m# Gráfica\u001b[0m\u001b[1;33m\u001b[0m\u001b[1;33m\u001b[0m\u001b[1;33m\u001b[0m\u001b[0m\n\u001b[0;32m      2\u001b[0m \u001b[0mplt\u001b[0m\u001b[1;33m.\u001b[0m\u001b[0mplot\u001b[0m\u001b[1;33m(\u001b[0m\u001b[0mxi\u001b[0m\u001b[1;33m,\u001b[0m\u001b[0mfi\u001b[0m\u001b[1;33m,\u001b[0m\u001b[1;34m'ro'\u001b[0m\u001b[1;33m,\u001b[0m \u001b[0mlabel\u001b[0m\u001b[1;33m=\u001b[0m\u001b[1;34m'puntos'\u001b[0m\u001b[1;33m)\u001b[0m\u001b[1;33m\u001b[0m\u001b[1;33m\u001b[0m\u001b[0m\n\u001b[1;32m----> 3\u001b[1;33m plt.plot(xtraza, ytraza, label='poli'\n\u001b[0m\u001b[0;32m      4\u001b[0m          , color='pink')\n\u001b[0;32m      5\u001b[0m \u001b[0mplt\u001b[0m\u001b[1;33m.\u001b[0m\u001b[0mtitle\u001b[0m\u001b[1;33m(\u001b[0m\u001b[1;34m'T.C '\u001b[0m\u001b[1;33m)\u001b[0m\u001b[1;33m\u001b[0m\u001b[1;33m\u001b[0m\u001b[0m\n",
      "\u001b[1;31mNameError\u001b[0m: name 'xtraza' is not defined"
     ]
    },
    {
     "data": {
      "image/png": "[encoded data removed]",
      "text/plain": [
       "<Figure size 432x288 with 1 Axes>"
      ]
     },
     "metadata": {
      "needs_background": "light"
     },
     "output_type": "display_data"
    }
   ],
   "source": [
    "# Gráfica\n",
    "plt.plot(xi,fi,'ro', label='puntos')\n",
    "plt.plot(xtraza, ytraza, label='poli'\n",
    "         , color='pink')\n",
    "plt.title('T.C ')\n",
    "plt.xlabel('x_i')\n",
    "plt.ylabel('f(x_i)')\n",
    "plt.legend()\n",
    "plt.show()"
   ]
  },
  {
   "cell_type": "code",
   "execution_count": null,
   "id": "566c1521",
   "metadata": {},
   "outputs": [],
   "source": []
  }
 ],
 "metadata": {
  "kernelspec": {
   "display_name": "Python 3",
   "language": "python",
   "name": "python3"
  },
  "language_info": {
   "codemirror_mode": {
    "name": "ipython",
    "version": 3
   },
   "file_extension": ".py",
   "mimetype": "text/x-python",
   "name": "python",
   "nbconvert_exporter": "python",
   "pygments_lexer": "ipython3",
   "version": "3.8.8"
  }
 },
 "nbformat": 4,
 "nbformat_minor": 5
}
