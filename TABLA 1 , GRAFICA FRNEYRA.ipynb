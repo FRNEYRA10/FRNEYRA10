{
 "cells": [
  {
   "cell_type": "code",
   "execution_count": 1,
   "id": "fcd881c7",
   "metadata": {},
   "outputs": [],
   "source": [
    "import matplotlib\n",
    "import matplotlib.pyplot as plt\n",
    "import numpy as np"
   ]
  },
  {
   "cell_type": "code",
   "execution_count": 14,
   "id": "9d5d96e0",
   "metadata": {},
   "outputs": [
    {
     "data": {
      "text/plain": [
       "<function matplotlib.pyplot.show(close=None, block=None)>"
      ]
     },
     "execution_count": 14,
     "metadata": {},
     "output_type": "execute_result"
    },
    {
     "data": {
      "image/png": "[encoded data removed]",
      "text/plain": [
       "<Figure size 432x288 with 1 Axes>"
      ]
     },
     "metadata": {
      "needs_background": "light"
     },
     "output_type": "display_data"
    }
   ],
   "source": [
    "# Muestra de datos de una epidemia de influenza en un colegio inglés. \n",
    "\n",
    "Dias = (0, 1, 2, 3, 4, 5, 6, 7, 8, 9, 10, 11, 12, 13, 14)\n",
    "\n",
    "# Número de enfermos por dia \n",
    "\n",
    "Enfermos = (1, 3, 6, 25, 73, 222, 294, 258, 237, 191, 125, 69, 27, 11, 4)\n",
    "\n",
    "fig, ax = plt.subplots()\n",
    "#Colocamos etiqueta en el eje Y\n",
    "ax.set_ylabel(\"I\")\n",
    "#Colocamos etiqueta en el eje X\n",
    "ax.set_title(\"dias\")\n",
    "\n",
    "#Crear la grafica de barras \n",
    "\n",
    "plt.bar(dias,I)\n",
    "plt.savefig (\"barras_simple.png\")\n",
    "\n",
    "#Mostar la grafica con el metodo show()\n",
    "\n",
    "plt.show"
   ]
  },
  {
   "cell_type": "code",
   "execution_count": null,
   "id": "0fe1c325",
   "metadata": {},
   "outputs": [],
   "source": []
  },
  {
   "cell_type": "code",
   "execution_count": null,
   "id": "1560968e",
   "metadata": {},
   "outputs": [],
   "source": []
  }
 ],
 "metadata": {
  "kernelspec": {
   "display_name": "Python 3",
   "language": "python",
   "name": "python3"
  },
  "language_info": {
   "codemirror_mode": {
    "name": "ipython",
    "version": 3
   },
   "file_extension": ".py",
   "mimetype": "text/x-python",
   "name": "python",
   "nbconvert_exporter": "python",
   "pygments_lexer": "ipython3",
   "version": "3.8.8"
  }
 },
 "nbformat": 4,
 "nbformat_minor": 5
}
